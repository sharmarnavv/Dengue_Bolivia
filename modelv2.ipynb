{
 "cells": [
  {
   "cell_type": "code",
   "execution_count": 5,
   "id": "9ef50cf3-d0cf-4f27-b1b8-0e07d404b1ab",
   "metadata": {},
   "outputs": [
    {
     "name": "stdout",
     "output_type": "stream",
     "text": [
      "Mean Absolute Error (MAE): 10.962682306232411\n",
      "Mean Squared Error (MSE): 500.34840319894045\n",
      "Root Mean Squared Error (RMSE): 22.36846895071141\n",
      "R-squared (R2): 0.98592877261028\n",
      "Predicted dengue cases: 4.88\n"
     ]
    },
    {
     "name": "stderr",
     "output_type": "stream",
     "text": [
      "d:\\Code Projects\\dengue\\Dengue_Bolivia\\env\\Lib\\site-packages\\sklearn\\utils\\validation.py:2739: UserWarning: X does not have valid feature names, but StandardScaler was fitted with feature names\n",
      "  warnings.warn(\n"
     ]
    }
   ],
   "source": [
    "import pandas as pd\n",
    "import numpy as np\n",
    "from sklearn.model_selection import train_test_split\n",
    "from sklearn.preprocessing import StandardScaler\n",
    "from sklearn.linear_model import LinearRegression\n",
    "from sklearn.metrics import mean_absolute_error, mean_squared_error, r2_score\n",
    "import joblib\n",
    "\n",
    "# Load cleaned dataset (assuming df_cleaned is already prepared)\n",
    "df = pd.read_csv('cleaned_dengue_dataset.csv')\n",
    "\n",
    "# Defining features (X) and target variable (y)\n",
    "X = df.drop(columns=['cases'])  # Independent variables\n",
    "y = df['cases']  # Target variable\n",
    "\n",
    "# Splitting the dataset into training and testing sets\n",
    "X_train, X_test, y_train, y_test = train_test_split(X, y, test_size=0.2, random_state=42, shuffle=False)\n",
    "\n",
    "# Standardizing numerical features\n",
    "scaler = StandardScaler()\n",
    "X_train_scaled = scaler.fit_transform(X_train)\n",
    "X_test_scaled = scaler.transform(X_test)\n",
    "\n",
    "# Initializing and training the regression model\n",
    "model = LinearRegression()\n",
    "model.fit(X_train_scaled, y_train)\n",
    "\n",
    "# Save the trained model\n",
    "joblib.dump(model, 'models/dengue_prediction_model.joblib')\n",
    "\n",
    "# Making predictions\n",
    "y_pred = model.predict(X_test_scaled)\n",
    "\n",
    "# Evaluating the model\n",
    "mae = mean_absolute_error(y_test, y_pred)\n",
    "mse = mean_squared_error(y_test, y_pred)\n",
    "rmse = np.sqrt(mse)\n",
    "r2 = r2_score(y_test, y_pred)\n",
    "\n",
    "# Display evaluation metrics\n",
    "print(f\"Mean Absolute Error (MAE): {mae}\")\n",
    "print(f\"Mean Squared Error (MSE): {mse}\")\n",
    "print(f\"Root Mean Squared Error (RMSE): {rmse}\")\n",
    "print(f\"R-squared (R2): {r2}\")\n",
    "\n",
    "# Function to predict dengue cases for a given week's weather conditions\n",
    "def predict_dengue_cases(input_data):\n",
    "    # Add a placeholder value for cases_avg_2w (using 0 as default)\n",
    "    input_with_cases = input_data + [0.0]\n",
    "    input_scaled = scaler.transform([input_with_cases])  # Scale input\n",
    "    prediction = model.predict(input_scaled)[0]  # Predict cases\n",
    "    return round(prediction, 2)\n",
    "\n",
    "# Example usage:\n",
    "# Provide sample input as [year, se, Precipitación, Temperatura_Máxima, Temperatura_Mínima, NDVI, NINO_3_4]\n",
    "sample_input = [2025, 15, 10.5, 32.0, 22.5, 0.72, 26.0]\n",
    "print(f\"Predicted dengue cases: {predict_dengue_cases(sample_input)}\")\n"
   ]
  },
  {
   "cell_type": "code",
   "execution_count": null,
   "id": "58dc585e",
   "metadata": {},
   "outputs": [],
   "source": []
  }
 ],
 "metadata": {
  "kernelspec": {
   "display_name": "env",
   "language": "python",
   "name": "python3"
  },
  "language_info": {
   "codemirror_mode": {
    "name": "ipython",
    "version": 3
   },
   "file_extension": ".py",
   "mimetype": "text/x-python",
   "name": "python",
   "nbconvert_exporter": "python",
   "pygments_lexer": "ipython3",
   "version": "3.12.1"
  }
 },
 "nbformat": 4,
 "nbformat_minor": 5
}
